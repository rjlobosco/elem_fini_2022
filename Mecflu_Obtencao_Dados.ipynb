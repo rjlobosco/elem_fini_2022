{
  "nbformat": 4,
  "nbformat_minor": 0,
  "metadata": {
    "colab": {
      "provenance": [],
      "include_colab_link": true
    },
    "kernelspec": {
      "name": "python3",
      "display_name": "Python 3"
    },
    "language_info": {
      "name": "python"
    }
  },
  "cells": [
    {
      "cell_type": "markdown",
      "metadata": {
        "id": "view-in-github",
        "colab_type": "text"
      },
      "source": [
        "<a href=\"https://colab.research.google.com/github/rjlobosco/elem_fini_2022/blob/main/Mecflu_Obtencao_Dados.ipynb\" target=\"_parent\"><img src=\"https://colab.research.google.com/assets/colab-badge.svg\" alt=\"Open In Colab\"/></a>"
      ]
    },
    {
      "cell_type": "code",
      "source": [
        "import math\n",
        "from datetime import datetime, timedelta"
      ],
      "metadata": {
        "id": "Jz3WernwSZTC"
      },
      "execution_count": null,
      "outputs": []
    },
    {
      "cell_type": "code",
      "execution_count": null,
      "metadata": {
        "id": "CX7rSVGk_k0A"
      },
      "outputs": [],
      "source": [
        "# Constantes\n",
        "PA = 101.325  # Pressão atmosférica ao nível do mar em kPa\n",
        "k = 1.15e-4   # Constante em s²/m²\n",
        "g = 9.81      # Aceleração gravitacional em m/s²\n",
        "\n",
        "\n",
        "# Função para converter horário de Brasília para UTC\n",
        "def brasilia_to_utc(hour_brasilia):\n",
        "    brasilia_time = datetime.strptime(hour_brasilia, '%H:%M')\n",
        "    utc_time = brasilia_time + timedelta(hours=3)\n",
        "    return utc_time.strftime('%H:%M')\n",
        "\n",
        "\n",
        "# Níveis de pressão em KPa\n",
        "pressure_levels = [50.0, 55.0, 60.0, 70.0, 75.0, 77.5, 80.0, 82.5, 85.0, 87.5, 90.0, 92.5, 95.0, 97.5, 100.0]\n",
        "\n",
        "# Níveis de pressão em hPa\n",
        "pressure_levels_hpa = [p * 10 for p in pressure_levels]\n",
        "\n",
        "# Horas\n",
        "horas = ['03:00', '09:00', '15:00', '21:00']\n",
        "horas_utc = [brasilia_to_utc(h) for h in horas]\n",
        "#print(horas_utc)\n",
        "\n",
        "\n",
        "# Coordenadas das plataformas\n",
        "platforms = {\n",
        "    'NAMORADO 2 (PNA-2)': (-22.45073, -40.41175),\n",
        "    'PETROBRAS 26 (P-26)': (-22.4684, -40.02869),\n",
        "    'PETROBRAS 32 (P-32)': (-22.2051, -40.1431),\n",
        "    'PETROBRAS 37 (P-37)': (-22.4868, -40.09779),\n",
        "    'PETROBRAS IX': (-22.57358, -40.82192),\n",
        "    'PETROBRAS XIX': (-22.3927, -40.05438),\n",
        "    'PETROBRAS XXXIII': (-22.37, -40.0267),\n",
        "    'VERMELHO 1 (PVM-1)': (-22.16065, -40.27872),\n",
        "    'VERMELHO 2 (PVM-2)': (-22.17535, -40.29147),\n",
        "}\n",
        "\n",
        "# Nomes das estações\n",
        "season_names = {\n",
        "        'DJF': 'Verão',\n",
        "        'MAM': 'Outono',\n",
        "        'JJA': 'Inverno',\n",
        "        'SON': 'Primavera'\n",
        "        }"
      ]
    },
    {
      "cell_type": "code",
      "execution_count": null,
      "metadata": {
        "id": "AMi3iYFhybOZ",
        "colab": {
          "base_uri": "https://localhost:8080/"
        },
        "outputId": "5f074972-1ed1-4ad7-d211-d0c395d433c8",
        "collapsed": true
      },
      "outputs": [
        {
          "output_type": "stream",
          "name": "stdout",
          "text": [
            "Collecting cdsapi\n",
            "  Downloading cdsapi-0.7.2-py2.py3-none-any.whl.metadata (2.7 kB)\n",
            "Collecting cads-api-client>=1.3.0 (from cdsapi)\n",
            "  Downloading cads_api_client-1.3.0-py3-none-any.whl.metadata (16 kB)\n",
            "Requirement already satisfied: requests>=2.5.0 in /usr/local/lib/python3.10/dist-packages (from cdsapi) (2.32.3)\n",
            "Requirement already satisfied: tqdm in /usr/local/lib/python3.10/dist-packages (from cdsapi) (4.66.5)\n",
            "Requirement already satisfied: attrs in /usr/local/lib/python3.10/dist-packages (from cads-api-client>=1.3.0->cdsapi) (24.2.0)\n",
            "Collecting multiurl (from cads-api-client>=1.3.0->cdsapi)\n",
            "  Downloading multiurl-0.3.1.tar.gz (18 kB)\n",
            "  Preparing metadata (setup.py) ... \u001b[?25l\u001b[?25hdone\n",
            "Requirement already satisfied: typing-extensions in /usr/local/lib/python3.10/dist-packages (from cads-api-client>=1.3.0->cdsapi) (4.12.2)\n",
            "Requirement already satisfied: charset-normalizer<4,>=2 in /usr/local/lib/python3.10/dist-packages (from requests>=2.5.0->cdsapi) (3.3.2)\n",
            "Requirement already satisfied: idna<4,>=2.5 in /usr/local/lib/python3.10/dist-packages (from requests>=2.5.0->cdsapi) (3.8)\n",
            "Requirement already satisfied: urllib3<3,>=1.21.1 in /usr/local/lib/python3.10/dist-packages (from requests>=2.5.0->cdsapi) (2.0.7)\n",
            "Requirement already satisfied: certifi>=2017.4.17 in /usr/local/lib/python3.10/dist-packages (from requests>=2.5.0->cdsapi) (2024.8.30)\n",
            "Requirement already satisfied: pytz in /usr/local/lib/python3.10/dist-packages (from multiurl->cads-api-client>=1.3.0->cdsapi) (2024.1)\n",
            "Requirement already satisfied: python-dateutil in /usr/local/lib/python3.10/dist-packages (from multiurl->cads-api-client>=1.3.0->cdsapi) (2.8.2)\n",
            "Requirement already satisfied: six>=1.5 in /usr/local/lib/python3.10/dist-packages (from python-dateutil->multiurl->cads-api-client>=1.3.0->cdsapi) (1.16.0)\n",
            "Downloading cdsapi-0.7.2-py2.py3-none-any.whl (12 kB)\n",
            "Downloading cads_api_client-1.3.0-py3-none-any.whl (21 kB)\n",
            "Building wheels for collected packages: multiurl\n",
            "  Building wheel for multiurl (setup.py) ... \u001b[?25l\u001b[?25hdone\n",
            "  Created wheel for multiurl: filename=multiurl-0.3.1-py3-none-any.whl size=21131 sha256=d62e80890f8ab46d7b0bd4b9f1a6a500e69c009bad2c9c1824ebb213b224289e\n",
            "  Stored in directory: /root/.cache/pip/wheels/9b/d9/5f/36a39fd10d15b5b2d362ad6dc8a1bd28a3b1e14e08357944bf\n",
            "Successfully built multiurl\n",
            "Installing collected packages: multiurl, cads-api-client, cdsapi\n",
            "Successfully installed cads-api-client-1.3.0 cdsapi-0.7.2 multiurl-0.3.1\n",
            "Collecting cartopy\n",
            "  Downloading Cartopy-0.23.0-cp310-cp310-manylinux_2_17_x86_64.manylinux2014_x86_64.whl.metadata (8.0 kB)\n",
            "Requirement already satisfied: numpy>=1.21 in /usr/local/lib/python3.10/dist-packages (from cartopy) (1.26.4)\n",
            "Requirement already satisfied: matplotlib>=3.5 in /usr/local/lib/python3.10/dist-packages (from cartopy) (3.7.1)\n",
            "Requirement already satisfied: shapely>=1.7 in /usr/local/lib/python3.10/dist-packages (from cartopy) (2.0.6)\n",
            "Requirement already satisfied: packaging>=20 in /usr/local/lib/python3.10/dist-packages (from cartopy) (24.1)\n",
            "Requirement already satisfied: pyshp>=2.3 in /usr/local/lib/python3.10/dist-packages (from cartopy) (2.3.1)\n",
            "Requirement already satisfied: pyproj>=3.3.1 in /usr/local/lib/python3.10/dist-packages (from cartopy) (3.6.1)\n",
            "Requirement already satisfied: contourpy>=1.0.1 in /usr/local/lib/python3.10/dist-packages (from matplotlib>=3.5->cartopy) (1.3.0)\n",
            "Requirement already satisfied: cycler>=0.10 in /usr/local/lib/python3.10/dist-packages (from matplotlib>=3.5->cartopy) (0.12.1)\n",
            "Requirement already satisfied: fonttools>=4.22.0 in /usr/local/lib/python3.10/dist-packages (from matplotlib>=3.5->cartopy) (4.53.1)\n",
            "Requirement already satisfied: kiwisolver>=1.0.1 in /usr/local/lib/python3.10/dist-packages (from matplotlib>=3.5->cartopy) (1.4.5)\n",
            "Requirement already satisfied: pillow>=6.2.0 in /usr/local/lib/python3.10/dist-packages (from matplotlib>=3.5->cartopy) (9.4.0)\n",
            "Requirement already satisfied: pyparsing>=2.3.1 in /usr/local/lib/python3.10/dist-packages (from matplotlib>=3.5->cartopy) (3.1.4)\n",
            "Requirement already satisfied: python-dateutil>=2.7 in /usr/local/lib/python3.10/dist-packages (from matplotlib>=3.5->cartopy) (2.8.2)\n",
            "Requirement already satisfied: certifi in /usr/local/lib/python3.10/dist-packages (from pyproj>=3.3.1->cartopy) (2024.8.30)\n",
            "Requirement already satisfied: six>=1.5 in /usr/local/lib/python3.10/dist-packages (from python-dateutil>=2.7->matplotlib>=3.5->cartopy) (1.16.0)\n",
            "Downloading Cartopy-0.23.0-cp310-cp310-manylinux_2_17_x86_64.manylinux2014_x86_64.whl (11.6 MB)\n",
            "\u001b[2K   \u001b[90m━━━━━━━━━━━━━━━━━━━━━━━━━━━━━━━━━━━━━━━━\u001b[0m \u001b[32m11.6/11.6 MB\u001b[0m \u001b[31m31.5 MB/s\u001b[0m eta \u001b[36m0:00:00\u001b[0m\n",
            "\u001b[?25hInstalling collected packages: cartopy\n",
            "Successfully installed cartopy-0.23.0\n",
            "Collecting netcdf4\n",
            "  Downloading netCDF4-1.7.1.post2-cp310-cp310-manylinux_2_17_x86_64.manylinux2014_x86_64.whl.metadata (1.8 kB)\n",
            "Collecting cftime (from netcdf4)\n",
            "  Downloading cftime-1.6.4-cp310-cp310-manylinux_2_17_x86_64.manylinux2014_x86_64.whl.metadata (8.7 kB)\n",
            "Requirement already satisfied: certifi in /usr/local/lib/python3.10/dist-packages (from netcdf4) (2024.8.30)\n",
            "Requirement already satisfied: numpy in /usr/local/lib/python3.10/dist-packages (from netcdf4) (1.26.4)\n",
            "Downloading netCDF4-1.7.1.post2-cp310-cp310-manylinux_2_17_x86_64.manylinux2014_x86_64.whl (9.0 MB)\n",
            "\u001b[2K   \u001b[90m━━━━━━━━━━━━━━━━━━━━━━━━━━━━━━━━━━━━━━━━\u001b[0m \u001b[32m9.0/9.0 MB\u001b[0m \u001b[31m29.2 MB/s\u001b[0m eta \u001b[36m0:00:00\u001b[0m\n",
            "\u001b[?25hDownloading cftime-1.6.4-cp310-cp310-manylinux_2_17_x86_64.manylinux2014_x86_64.whl (1.3 MB)\n",
            "\u001b[2K   \u001b[90m━━━━━━━━━━━━━━━━━━━━━━━━━━━━━━━━━━━━━━━━\u001b[0m \u001b[32m1.3/1.3 MB\u001b[0m \u001b[31m47.5 MB/s\u001b[0m eta \u001b[36m0:00:00\u001b[0m\n",
            "\u001b[?25hInstalling collected packages: cftime, netcdf4\n",
            "Successfully installed cftime-1.6.4 netcdf4-1.7.1.post2\n",
            "Requirement already satisfied: cdsapi in /usr/local/lib/python3.10/dist-packages (0.7.2)\n",
            "Requirement already satisfied: cads-api-client>=1.3.0 in /usr/local/lib/python3.10/dist-packages (from cdsapi) (1.3.0)\n",
            "Requirement already satisfied: requests>=2.5.0 in /usr/local/lib/python3.10/dist-packages (from cdsapi) (2.32.3)\n",
            "Requirement already satisfied: tqdm in /usr/local/lib/python3.10/dist-packages (from cdsapi) (4.66.5)\n",
            "Requirement already satisfied: attrs in /usr/local/lib/python3.10/dist-packages (from cads-api-client>=1.3.0->cdsapi) (24.2.0)\n",
            "Requirement already satisfied: multiurl in /usr/local/lib/python3.10/dist-packages (from cads-api-client>=1.3.0->cdsapi) (0.3.1)\n",
            "Requirement already satisfied: typing-extensions in /usr/local/lib/python3.10/dist-packages (from cads-api-client>=1.3.0->cdsapi) (4.12.2)\n",
            "Requirement already satisfied: charset-normalizer<4,>=2 in /usr/local/lib/python3.10/dist-packages (from requests>=2.5.0->cdsapi) (3.3.2)\n",
            "Requirement already satisfied: idna<4,>=2.5 in /usr/local/lib/python3.10/dist-packages (from requests>=2.5.0->cdsapi) (3.8)\n",
            "Requirement already satisfied: urllib3<3,>=1.21.1 in /usr/local/lib/python3.10/dist-packages (from requests>=2.5.0->cdsapi) (2.0.7)\n",
            "Requirement already satisfied: certifi>=2017.4.17 in /usr/local/lib/python3.10/dist-packages (from requests>=2.5.0->cdsapi) (2024.8.30)\n",
            "Requirement already satisfied: pytz in /usr/local/lib/python3.10/dist-packages (from multiurl->cads-api-client>=1.3.0->cdsapi) (2024.1)\n",
            "Requirement already satisfied: python-dateutil in /usr/local/lib/python3.10/dist-packages (from multiurl->cads-api-client>=1.3.0->cdsapi) (2.8.2)\n",
            "Requirement already satisfied: six>=1.5 in /usr/local/lib/python3.10/dist-packages (from python-dateutil->multiurl->cads-api-client>=1.3.0->cdsapi) (1.16.0)\n"
          ]
        }
      ],
      "source": [
        "!pip install cdsapi\n",
        "!pip install cartopy\n",
        "!pip install netcdf4\n",
        "\n",
        "import cdsapi\n",
        "!pip install --upgrade cdsapi"
      ]
    },
    {
      "cell_type": "code",
      "source": [
        "# Inicializa a API do CDS\n",
        "c = cdsapi.Client(url='https://cds-beta.climate.copernicus.eu/api', key='89647e12-cf97-495d-a31b-3c325c5fd352')\n",
        "\n",
        "# Nome do arquivo NetCDF para o nível de pressão atual com o horário de Brasília\n",
        "nc_filename = f'Era5_2023_CAMPOS.nc'\n",
        "\n",
        "# Requisição dos dados\n",
        "dataset = 'reanalysis-era5-pressure-levels'\n",
        "request = {\n",
        "'product_type': ['reanalysis'],\n",
        "'variable': ['temperature', 'u_component_of_wind', 'v_component_of_wind'],\n",
        "'year': ['2023'],\n",
        "'month': ['01', '02', '03', '04', '05', '06', '07', '08', '09', '10', '11', '12'],\n",
        "'day': ['01', '02', '03', '04', '05', '06', '07', '08', '09', '10', '11', '12', '13', '14', '15', '16', '17', '18', '19', '20', '21', '22', '23', '24', '25', '26', '27', '28', '29', '30', '31'],\n",
        "'time': horas_utc,\n",
        "'area': [-27, -45, -20, -35],  # Coordenadas da Bacia de Campos\n",
        "'pressure_level': pressure_levels_hpa,  # Nível convertido de kPa para hPa\n",
        "'data_format': 'netcdf',\n",
        "'download_format': 'unarchived'\n",
        "}\n",
        "\n",
        "c.retrieve(dataset, request, nc_filename)"
      ],
      "metadata": {
        "colab": {
          "base_uri": "https://localhost:8080/"
        },
        "id": "yXHcbAbYfa_Q",
        "outputId": "415a31bd-8df8-4353-cf4a-a3610ab1deb6"
      },
      "execution_count": null,
      "outputs": [
        {
          "output_type": "stream",
          "name": "stderr",
          "text": [
            "2024-09-07 13:03:25,562 INFO Request ID is 2d7c0a58-e899-4dec-9c0d-d4da5115352e\n",
            "INFO:cads_api_client.processing:Request ID is 2d7c0a58-e899-4dec-9c0d-d4da5115352e\n",
            "2024-09-07 13:03:25,722 INFO status has been updated to accepted\n",
            "INFO:cads_api_client.processing:status has been updated to accepted\n",
            "2024-09-07 13:03:27,379 INFO status has been updated to running\n",
            "INFO:cads_api_client.processing:status has been updated to running\n"
          ]
        }
      ]
    }
  ]
}
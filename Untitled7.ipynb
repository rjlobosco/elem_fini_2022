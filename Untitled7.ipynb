{
  "nbformat": 4,
  "nbformat_minor": 0,
  "metadata": {
    "colab": {
      "provenance": [],
      "authorship_tag": "ABX9TyMPqc/Rn2G21ZYSo+Q2/Zaw",
      "include_colab_link": true
    },
    "kernelspec": {
      "name": "python3",
      "display_name": "Python 3"
    },
    "language_info": {
      "name": "python"
    }
  },
  "cells": [
    {
      "cell_type": "markdown",
      "metadata": {
        "id": "view-in-github",
        "colab_type": "text"
      },
      "source": [
        "<a href=\"https://colab.research.google.com/github/rjlobosco/elem_fini_2022/blob/main/Untitled7.ipynb\" target=\"_parent\"><img src=\"https://colab.research.google.com/assets/colab-badge.svg\" alt=\"Open In Colab\"/></a>"
      ]
    },
    {
      "cell_type": "code",
      "execution_count": 1,
      "metadata": {
        "colab": {
          "base_uri": "https://localhost:8080/"
        },
        "id": "_EYw146OYJW_",
        "outputId": "57d9d704-399a-4e6f-9185-80ddfc399c97"
      },
      "outputs": [
        {
          "output_type": "stream",
          "name": "stdout",
          "text": [
            "Project Schedule:\n",
            "Task A: Start Date - 2024-04-05, End Date - 2024-04-10\n",
            "Task B: Start Date - 2024-04-10, End Date - 2024-04-13\n",
            "Task C: Start Date - 2024-04-13, End Date - 2024-04-17\n",
            "Task D: Start Date - 2024-04-17, End Date - 2024-04-19\n"
          ]
        }
      ],
      "source": [
        "from datetime import datetime, timedelta\n",
        "\n",
        "class Task:\n",
        "    def __init__(self, name, duration):\n",
        "        self.name = name\n",
        "        self.duration = duration\n",
        "        self.dependencies = []\n",
        "\n",
        "    def add_dependency(self, task):\n",
        "        self.dependencies.append(task)\n",
        "\n",
        "def calculate_schedule(start_date, tasks):\n",
        "    schedule = {}\n",
        "    current_date = start_date\n",
        "\n",
        "    for task in tasks:\n",
        "        # Calculate the start and end dates for the task\n",
        "        start_date = current_date\n",
        "        end_date = current_date + timedelta(days=task.duration)\n",
        "        schedule[task.name] = (start_date, end_date)\n",
        "\n",
        "        # Update the current date for the next task\n",
        "        current_date = end_date\n",
        "\n",
        "    return schedule\n",
        "\n",
        "# Define tasks\n",
        "tasks = [\n",
        "    Task(\"Task A\", 5),\n",
        "    Task(\"Task B\", 3),\n",
        "    Task(\"Task C\", 4),\n",
        "    Task(\"Task D\", 2)\n",
        "]\n",
        "\n",
        "# Define task dependencies\n",
        "tasks[1].add_dependency(tasks[0])  # Task B depends on Task A\n",
        "tasks[2].add_dependency(tasks[0])  # Task C depends on Task A\n",
        "tasks[3].add_dependency(tasks[1])  # Task D depends on Task B\n",
        "\n",
        "# Calculate project start date (e.g., today)\n",
        "start_date = datetime.now()\n",
        "\n",
        "# Calculate the project schedule\n",
        "schedule = calculate_schedule(start_date, tasks)\n",
        "\n",
        "# Print the project schedule\n",
        "print(\"Project Schedule:\")\n",
        "for task_name, (start_date, end_date) in schedule.items():\n",
        "    print(f\"{task_name}: Start Date - {start_date.strftime('%Y-%m-%d')}, End Date - {end_date.strftime('%Y-%m-%d')}\")\n"
      ]
    },
    {
      "cell_type": "code",
      "source": [
        "import matplotlib.pyplot as plt\n",
        "import matplotlib.dates as mdates\n",
        "\n",
        "def plot_schedule(schedule):\n",
        "    fig, ax = plt.subplots()\n",
        "\n",
        "    for i, (task_name, (start_date, end_date)) in enumerate(schedule.items()):\n",
        "        ax.barh(task_name, end_date - start_date, left=start_date, height=0.5, label=f\"Task {i+1}\")\n",
        "\n",
        "    ax.xaxis_date()\n",
        "    ax.xaxis.set_major_formatter(mdates.DateFormatter('%Y-%m-%d'))\n",
        "    ax.set_xlabel('Date')\n",
        "    ax.set_ylabel('Tasks')\n",
        "    ax.set_title('Project Schedule')\n",
        "    ax.legend()\n",
        "\n",
        "    plt.show()\n",
        "\n",
        "# Plot the project schedule\n",
        "plot_schedule(schedule)"
      ],
      "metadata": {
        "colab": {
          "base_uri": "https://localhost:8080/",
          "height": 472
        },
        "id": "saL7cf2RYZ9r",
        "outputId": "649d36aa-6a1f-4707-c582-b91d10dccda4"
      },
      "execution_count": 5,
      "outputs": [
        {
          "output_type": "display_data",
          "data": {
            "text/plain": [
              "<Figure size 640x480 with 1 Axes>"
            ],
            "image/png": "[encoded data removed]"
          },
          "metadata": {}
        }
      ]
    },
    {
      "cell_type": "code",
      "source": [],
      "metadata": {
        "id": "bj-MPWnwr1bB"
      },
      "execution_count": null,
      "outputs": []
    },
    {
      "cell_type": "code",
      "source": [],
      "metadata": {
        "id": "mJBzFOmCrEHQ"
      },
      "execution_count": null,
      "outputs": []
    },
    {
      "cell_type": "code",
      "source": [],
      "metadata": {
        "id": "A76BC_sQrE-W"
      },
      "execution_count": null,
      "outputs": []
    },
    {
      "cell_type": "code",
      "source": [],
      "metadata": {
        "id": "46vQrYWOnqCp"
      },
      "execution_count": null,
      "outputs": []
    }
  ]
}